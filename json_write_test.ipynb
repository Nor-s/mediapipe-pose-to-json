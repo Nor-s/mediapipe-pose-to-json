{
 "cells": [
  {
   "cell_type": "markdown",
   "metadata": {},
   "source": [
    "# **Json write ipynb**\n",
    "\n",
    "- reference:  https://bleedai.com/introduction-to-pose-detection-and-basic-pose-classification/"
   ]
  },
  {
   "cell_type": "code",
   "execution_count": 32,
   "metadata": {},
   "outputs": [],
   "source": [
    "import math\n",
    "import cv2\n",
    "import numpy as np\n",
    "from time import time\n",
    "import mediapipe as mp\n",
    "import matplotlib.pyplot as plt\n",
    "import json\n",
    "from IPython.display import clear_output\n",
    "import os\n",
    "from PIL import Image"
   ]
  },
  {
   "cell_type": "markdown",
   "metadata": {},
   "source": [
    "## **getGifAvgFps**"
   ]
  },
  {
   "cell_type": "code",
   "execution_count": 33,
   "metadata": {},
   "outputs": [],
   "source": [
    "def getGifAvgFps(pil_ImageObject):\n",
    "    \"\"\" Returns the average framerate of a PIL Image object \"\"\"\n",
    "    pil_ImageObject.seek(0)\n",
    "    frames = duration = 0\n",
    "    while True:\n",
    "        try:\n",
    "            frames += 1\n",
    "            duration += pil_ImageObject.info['duration']\n",
    "            pil_ImageObject.seek(pil_ImageObject.tell() + 1)\n",
    "        except EOFError:\n",
    "            return frames / duration * 1000\n",
    "    return 24"
   ]
  },
  {
   "cell_type": "markdown",
   "metadata": {},
   "source": [
    "## **Mediapipe landmark names**"
   ]
  },
  {
   "cell_type": "code",
   "execution_count": 34,
   "metadata": {},
   "outputs": [],
   "source": [
    "\n",
    "name_list = [\n",
    " \"nose\"\n",
    ",\"left_eye_inner\"\n",
    ",\"left_eye\"\n",
    ",\"left_eye_outer\"\n",
    ",\"right_eye_inner\"\n",
    ",\"right_eye\"\n",
    ",\"right_eye_outer\"\n",
    ",\"left_ear\"\n",
    ",\"right_ear\"\n",
    ",\"mouth_left\"\n",
    ",\"mouth_right\"\n",
    ",\"left_shoulder\"\n",
    ",\"right_shoulder\"\n",
    ",\"left_elbow\"\n",
    ",\"right_elbow\"\n",
    ",\"left_wrist\"\n",
    ",\"right_wrist\"\n",
    ",\"left_pinky\"\n",
    ",\"right_pinky\"\n",
    ",\"left_index\"\n",
    ",\"right_index\"\n",
    ",\"left_thumb\"\n",
    ",\"right_thumb\"\n",
    ",\"left_hip\"\n",
    ",\"right_hip\"\n",
    ",\"left_knee\"\n",
    ",\"right_knee\"\n",
    ",\"left_ankle\"\n",
    ",\"right_ankle\"\n",
    ",\"left_heel\"\n",
    ",\"right_heel\"\n",
    ",\"left_foot_index\"\n",
    ",\"right_foot_index\"]\n",
    "\n"
   ]
  },
  {
   "cell_type": "markdown",
   "metadata": {},
   "source": [
    "## **Mediapipe init**"
   ]
  },
  {
   "cell_type": "code",
   "execution_count": 35,
   "metadata": {},
   "outputs": [],
   "source": [
    "mp_pose = mp.solutions.pose\n",
    " \n",
    "# Setting up the Pose function.\n",
    "pose = mp_pose.Pose(static_image_mode=True, min_detection_confidence=0.6, model_complexity=2)\n",
    " \n",
    "# Initializing mediapipe drawing class, useful for annotation.\n",
    "mp_drawing = mp.solutions.drawing_utils"
   ]
  },
  {
   "cell_type": "markdown",
   "metadata": {},
   "source": [
    "## **Mediapipe detect pose**\n",
    "\n",
    "- This function performs pose detection on an image.\n",
    "    - Args:\n",
    "        - image: The input image with a prominent person whose pose landmarks needs to be detected.\n",
    "        - pose: The pose setup function required to perform the pose detection.\n",
    "        - display: A boolean value that is if set to true the function displays the original input image, the resultant image, \n",
    "       ' and the pose landmarks in 3D plot and returns nothing.\n",
    "    - Returns:\n",
    "        - output_image: The input image with the detected pose landmarks drawn.\n",
    "        - landmarks: A list of detected landmarks converted into their original scale."
   ]
  },
  {
   "cell_type": "markdown",
   "metadata": {},
   "source": [
    "- Pose World landmarks\n",
    "    - `x`: `-landmark[i].z`\n",
    "    - `y`: `landmark[i].x` \n",
    "    - `z`: `-landmark[i].y`\n",
    "    - `score`:  `landmark[i].visibility`\n",
    "    - `name`: `name_list[i]`\n"
   ]
  },
  {
   "cell_type": "code",
   "execution_count": 36,
   "metadata": {},
   "outputs": [],
   "source": [
    "def detectPose(image, pose, jsonObject, frameNum, display=True):\n",
    "    clear_output(wait=True) # for clear console output\n",
    "\n",
    "    # for json_object['frames']\n",
    "    frameJsonObject = {\n",
    "        \"frameNum\": frameNum,\n",
    "        \"keypoints\": [\n",
    "        ],\n",
    "        \"keypoints3D\" : [\n",
    "        ]\n",
    "    }\n",
    "    \n",
    "    # Create a copy of the input image.\n",
    "    output_image = image.copy()\n",
    "    \n",
    "    # Convert the image from BGR into RGB format.\n",
    "    imageRGB = cv2.cvtColor(image, cv2.COLOR_BGR2RGB)\n",
    "    \n",
    "    # Perform the Pose Detection.\n",
    "    results = pose.process(imageRGB)\n",
    "    \n",
    "    # Retrieve the height and width of the input image.\n",
    "    height, width, _ = image.shape\n",
    "    \n",
    "    # Initialize a list to store the detected landmarks.\n",
    "    landmarks = []\n",
    "\n",
    "    if results.pose_world_landmarks:\n",
    "        for i in range(0, 33):\n",
    "            landmark = results.pose_world_landmarks.landmark\n",
    "            frameJsonObject[\"keypoints3D\"].append({'x': -landmark[i].z,'y': landmark[i].x, 'z': -landmark[i].y,'score':  landmark[i].visibility, \"name\": name_list[i]})\n",
    "            \n",
    "    if results.pose_landmarks:\n",
    "        # Draw Pose landmarks on the output image.\n",
    "        for i in range(0, 33):\n",
    "            landmark = results.pose_landmarks.landmark\n",
    "            frameJsonObject[\"keypoints\"].append({'x': landmark[i].x,'y': landmark[i].y, 'z': landmark[i].z,'score':  landmark[i].visibility, \"name\": name_list[i]})\n",
    "\n",
    "            \n",
    "    mp_drawing.draw_landmarks(image=output_image, landmark_list=results.pose_landmarks,\n",
    "                              connections=mp_pose.POSE_CONNECTIONS)\n",
    "\n",
    "\n",
    "    jsonObject[\"frames\"].append(frameJsonObject)\n",
    "    # Check if the original input image and the resultant image are specified to be displayed.\n",
    "    if display:\n",
    "        # Display the original input image and the resultant image.\n",
    "        plt.figure(figsize=[22,22])\n",
    "        plt.subplot(121);plt.imshow(image[:,:,::-1]);plt.title(\"Original Image\");plt.axis('off');\n",
    "        plt.subplot(122);plt.imshow(output_image[:,:,::-1]);plt.title(\"Output Image\");plt.axis('off');\n",
    "        \n",
    "        # Also Plot the Pose landmarks in 3D.\n",
    "        mp_drawing.plot_landmarks(results.pose_world_landmarks, mp_pose.POSE_CONNECTIONS)\n",
    "        \n",
    "        \n",
    "        # Return the output image and the found landmarks.\n",
    "    return output_image, landmarks"
   ]
  },
  {
   "cell_type": "markdown",
   "metadata": {},
   "source": [
    "## **Prepare**"
   ]
  },
  {
   "cell_type": "code",
   "execution_count": 37,
   "metadata": {},
   "outputs": [],
   "source": [
    "fileName = 'sample/mixamo_attack.gif'"
   ]
  },
  {
   "cell_type": "code",
   "execution_count": 38,
   "metadata": {},
   "outputs": [],
   "source": [
    "FILENAME = os.path.join(os.path.dirname('__file__'),fileName)\n",
    "# only gif\n",
    "fps = getGifAvgFps(Image.open(FILENAME))\n",
    "jsonObject = {\n",
    "    \"fileName\": fileName,\n",
    "    \"duration\": 0,\n",
    "    \"ticksPerSecond\": math.trunc(fps),\n",
    "    \"frames\": [\n",
    "    ]\n",
    "}"
   ]
  },
  {
   "cell_type": "code",
   "execution_count": 39,
   "metadata": {},
   "outputs": [],
   "source": [
    "# Setup Pose function for video.\n",
    "pose_video = mp_pose.Pose(static_image_mode=False, min_detection_confidence=0.5, model_complexity=1)\n",
    " \n",
    "# Initialize the VideoCapture object to read from the webcam.\n",
    "#video = cv2.VideoCapture(0)\n",
    " \n",
    "# Initialize the VideoCapture object to read from a video stored in the disk.\n",
    "video = cv2.VideoCapture(fileName)\n",
    " \n",
    " \n",
    "# Initialize a variable to store the time of the previous frame.\n",
    "time1 = 0\n",
    "\n",
    "frame_num = -1\n",
    " "
   ]
  },
  {
   "cell_type": "markdown",
   "metadata": {},
   "source": [
    "## **Detect pose**"
   ]
  },
  {
   "cell_type": "code",
   "execution_count": 40,
   "metadata": {},
   "outputs": [],
   "source": [
    "# Iterate until the video is accessed successfully.\n",
    "while video.isOpened():\n",
    "    \n",
    "    # Read a frame.\n",
    "    ok, frame = video.read()\n",
    "    frame_num += 1\n",
    "    \n",
    "    # Check if frame is not read properly.\n",
    "    if not ok:\n",
    "        \n",
    "        # Break the loop.\n",
    "        break\n",
    "    \n",
    "    # Flip the frame horizontally for natural (selfie-view) visualization.\n",
    "    # frame = cv2.flip(frame, 1)\n",
    "    \n",
    "    # Get the width and height of the frame\n",
    "    frame_height, frame_width, _ =  frame.shape\n",
    "    \n",
    "    # Resize the frame while keeping the aspect ratio.\n",
    "    frame = cv2.resize(frame, (int(frame_width * (640 / frame_height)), 640))\n",
    "    \n",
    "    # Perform Pose landmark detection.\n",
    "    frame, _ = detectPose(frame, pose_video, jsonObject, frame_num, display=False)\n",
    "    \n",
    "    # Set the time for this frame to the current time.\n",
    "    time2 = time()\n",
    "    \n",
    "    # Check if the difference between the previous and this frame time &gt; 0 to avoid division by zero.\n",
    "    if (time2 - time1):\n",
    "    \n",
    "        # Calculate the number of frames per second.\n",
    "        frames_per_second = 1.0 / (time2 - time1)\n",
    "        \n",
    "        # Write the calculated number of frames per second on the frame. \n",
    "        cv2.putText(frame, 'FPS: {}'.format(int(frames_per_second)), (10, 30),cv2.FONT_HERSHEY_PLAIN, 2, (0, 255, 0), 3)\n",
    "    \n",
    "    # Update the previous frame time to this frame time.\n",
    "    # As this frame will become previous frame in next iteration.\n",
    "    time1 = time2\n",
    "    \n",
    "    # Display the frame.\n",
    "    cv2.imshow('Pose Detection', frame)\n",
    "    \n",
    "    # Wait until a key is pressed.\n",
    "    # Retreive the ASCII code of the key pressed\n",
    "    k = cv2.waitKey(1)\n",
    "    \n",
    "    # Check if 'ESC' is pressed.\n",
    "    if(k == 27):\n",
    "        \n",
    "        # Break the loop.\n",
    "        break\n",
    "jsonObject['duration'] = frame_num -1;\n",
    "with open( fileName+'.json', 'w') as f:\n",
    "    json_string = json.dump(jsonObject, f, indent=2)    \n",
    "# Release the VideoCapture object.\n",
    "video.release()\n",
    " \n",
    "# Close the windows.\n",
    "cv2.destroyAllWindows()"
   ]
  }
 ],
 "metadata": {
  "interpreter": {
   "hash": "78bdb2dcac2d744d0c30d0eaa331d55fe59e60d95f25fb3dacd42cea4b1d7e89"
  },
  "kernelspec": {
   "display_name": "Python 3.9.9 64-bit ('system-3.9.9')",
   "language": "python",
   "name": "python3"
  },
  "language_info": {
   "codemirror_mode": {
    "name": "ipython",
    "version": 3
   },
   "file_extension": ".py",
   "mimetype": "text/x-python",
   "name": "python",
   "nbconvert_exporter": "python",
   "pygments_lexer": "ipython3",
   "version": "3.9.9"
  },
  "orig_nbformat": 4
 },
 "nbformat": 4,
 "nbformat_minor": 2
}
