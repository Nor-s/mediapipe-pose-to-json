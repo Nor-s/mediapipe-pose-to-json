{
 "cells": [
  {
   "cell_type": "code",
   "execution_count": 1,
   "metadata": {},
   "outputs": [],
   "source": [
    "import mediapipe_helper as mp_helper\r\n",
    "import json\r\n",
    "import ntpath\r\n",
    "from multiprocessing import Process, Pool\r\n",
    "import glob"
   ]
  },
  {
   "cell_type": "code",
   "execution_count": 2,
   "metadata": {},
   "outputs": [],
   "source": [
    "my_pool = Pool()\r\n",
    "\r\n",
    "target_pattern = r\"output/*.json\"\r\n",
    "file_list = glob.glob(target_pattern)\r\n",
    "file_list = [file.replace('\\\\', '/') for file in file_list]\r\n",
    "for file in file_list:\r\n",
    "    json_object = None\r\n",
    "    with open(file) as f:\r\n",
    "        json_object = json.load(f)\r\n",
    "    my_pool.apply_async(mp_helper.json_to_gif, (json_object, './screenshot'))\r\n",
    "    my_pool.apply_async(mp_helper.json_to_gif, (json_object, './screenshot', 100 , True))\r\n",
    "    my_pool.apply_async(mp_helper.json_one_frame_to_360_gif, (json_object, 0,'./screenshot'))\r\n",
    "\r\n",
    "my_pool.close()\r\n",
    "my_pool.join()"
   ]
  }
 ],
 "metadata": {
  "interpreter": {
   "hash": "7770f5e8eb6920f79a6b043824678a52812d883996986ad7f79f03ebf5a9088e"
  },
  "kernelspec": {
   "display_name": "Python 3.8.11 64-bit ('No': virtualenv)",
   "name": "python3"
  },
  "language_info": {
   "codemirror_mode": {
    "name": "ipython",
    "version": 3
   },
   "file_extension": ".py",
   "mimetype": "text/x-python",
   "name": "python",
   "nbconvert_exporter": "python",
   "pygments_lexer": "ipython3",
   "version": "3.8.11"
  },
  "orig_nbformat": 4
 },
 "nbformat": 4,
 "nbformat_minor": 2
}