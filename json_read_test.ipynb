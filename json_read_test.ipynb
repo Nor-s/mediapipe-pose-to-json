{
 "cells": [
  {
   "cell_type": "markdown",
   "metadata": {},
   "source": [
    "# **Json Read**"
   ]
  },
  {
   "cell_type": "code",
   "execution_count": 95,
   "metadata": {},
   "outputs": [],
   "source": [
    "import matplotlib.pyplot as plt\n",
    "import numpy as np\n",
    "from mpl_toolkits.mplot3d import Axes3D\n",
    "import json\n",
    "from IPython.display import clear_output\n",
    "# https://github.com/google/mediapipe/blob/master/mediapipe/python/solutions/drawing_utils.py"
   ]
  },
  {
   "cell_type": "markdown",
   "metadata": {},
   "source": [
    "## **Open json file**"
   ]
  },
  {
   "cell_type": "code",
   "execution_count": 96,
   "metadata": {},
   "outputs": [],
   "source": [
    "with open('sample/mixamo_attack.gif.json') as f:\n",
    "    json_object = json.load(f)\n",
    "\n"
   ]
  },
  {
   "cell_type": "markdown",
   "metadata": {},
   "source": [
    "## **Get Json Data**"
   ]
  },
  {
   "cell_type": "code",
   "execution_count": 97,
   "metadata": {},
   "outputs": [
    {
     "name": "stdout",
     "output_type": "stream",
     "text": [
      "sample/mixamo_attack.gif\n",
      "{'x': 0.1445787101984024, 'y': -0.22401092946529388, 'z': 0.5623477101325989, 'score': 0.9999957084655762, 'name': 'nose'}\n",
      "0.1445787101984024\n",
      "326\n"
     ]
    }
   ],
   "source": [
    "print(json_object['fileName'])\n",
    "print(json_object['frames'][0][\"keypoints3D\"][0])\n",
    "print(json_object['frames'][0][\"keypoints3D\"][0]['x'])\n",
    "print(len(json_object['frames']))"
   ]
  },
  {
   "cell_type": "markdown",
   "metadata": {},
   "source": [
    "## **Show matplotlib**"
   ]
  },
  {
   "cell_type": "code",
   "execution_count": 99,
   "metadata": {},
   "outputs": [
    {
     "data": {
      "image/png": "[encoded data removed]",
      "text/plain": [
       "<Figure size 432x288 with 1 Axes>"
      ]
     },
     "metadata": {
      "needs_background": "light"
     },
     "output_type": "display_data"
    }
   ],
   "source": [
    "for fidx in range(0, len(json_object['frames'])):\n",
    "  clear_output(wait=True)\n",
    "  dot1 = []\n",
    "  for idx in range(0, 33):\n",
    "    landmark = json_object['frames'][fidx][\"keypoints3D\"][idx];\n",
    "    dot1.append([landmark['x'], landmark['y'], landmark['z']])\n",
    "    if idx < 10: \n",
    "      dot1[idx].append('r')\n",
    "    elif idx == 24 or idx == 23 or idx == 11 or idx == 12:\n",
    "      dot1[idx].append('b')\n",
    "    else:\n",
    "      dot1[idx].append('g')\n",
    "    dot1[idx].append('o')\n",
    "  dot1.append([0.0, 0.0, 0.0, 'b', 'H'])\n",
    "\n",
    "\n",
    "  fig = plt.figure()  \n",
    "  ax1 = plt.axes(projection='3d')\n",
    "  ax1.view_init(elev=10, azim=0)\n",
    "  ax1.set_xlim(-1.0, 1.0) \n",
    "  ax1.set_xlabel(\"x\") \n",
    "  ax1.set_ylim(-1.0, 1.0)  \n",
    "  ax1.set_ylabel(\"y\") \n",
    "  ax1.set_zlim(-1.0, 1.0)  \n",
    "  ax1.set_zlabel(\"z\") \n",
    "  color1 = ['r', 'g', 'b', 'k', 'm']\n",
    "  marker1 = ['o', 'v', '1', 's', 'H']\n",
    "  i = 0\n",
    "  for x in dot1:\n",
    "      ax1.scatter3D(x[0],x[1],x[2], c=x[3],\n",
    "                  marker= x[4], linewidths=1)  \n",
    "      i += 1\n",
    "  plt.show()"
   ]
  }
 ],
 "metadata": {
  "interpreter": {
   "hash": "78bdb2dcac2d744d0c30d0eaa331d55fe59e60d95f25fb3dacd42cea4b1d7e89"
  },
  "kernelspec": {
   "display_name": "Python 3.9.9 64-bit ('system-3.9.9')",
   "language": "python",
   "name": "python3"
  },
  "language_info": {
   "codemirror_mode": {
    "name": "ipython",
    "version": 3
   },
   "file_extension": ".py",
   "mimetype": "text/x-python",
   "name": "python",
   "nbconvert_exporter": "python",
   "pygments_lexer": "ipython3",
   "version": "3.9.9"
  },
  "orig_nbformat": 4
 },
 "nbformat": 4,
 "nbformat_minor": 2
}
